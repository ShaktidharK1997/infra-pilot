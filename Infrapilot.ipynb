{
 "cells": [
  {
   "cell_type": "markdown",
   "id": "21d157e5-26ee-49f5-9ee1-a53bd80814d3",
   "metadata": {},
   "source": [
    "## Setting up Gemini Chat model "
   ]
  },
  {
   "cell_type": "code",
   "execution_count": 1,
   "id": "8ec082dd-d5eb-474b-890f-6d31aca65b16",
   "metadata": {},
   "outputs": [
    {
     "name": "stdin",
     "output_type": "stream",
     "text": [
      "Enter your Google API key:  ········\n"
     ]
    }
   ],
   "source": [
    "import getpass\n",
    "import os\n",
    "from langchain_google_genai import ChatGoogleGenerativeAI\n",
    "\n",
    "# Set up API key\n",
    "os.environ[\"GOOGLE_API_KEY\"] = getpass.getpass(\"Enter your Google API key: \")\n",
    "\n",
    "# Initialize the model\n",
    "model = ChatGoogleGenerativeAI(model=\"gemini-1.5-flash\")  "
   ]
  },
  {
   "cell_type": "code",
   "execution_count": 5,
   "id": "9cab6fb3-579d-4584-b99e-20090b327c34",
   "metadata": {},
   "outputs": [
    {
     "data": {
      "text/plain": [
       "'Hi there! How can I help you today? \\n'"
      ]
     },
     "execution_count": 5,
     "metadata": {},
     "output_type": "execute_result"
    }
   ],
   "source": [
    "from langchain_core.messages import HumanMessage\n",
    "\n",
    "response = model.invoke([HumanMessage(content=\"hi!\")])\n",
    "response.content"
   ]
  },
  {
   "cell_type": "markdown",
   "id": "b8dc93f0-a941-484f-8dbf-cc57d11b838c",
   "metadata": {},
   "source": [
    "### Setting up Tavily Search tool"
   ]
  },
  {
   "cell_type": "code",
   "execution_count": 3,
   "id": "484cc1a9-3803-4788-8ab9-0cf115f6a3bd",
   "metadata": {},
   "outputs": [
    {
     "name": "stdin",
     "output_type": "stream",
     "text": [
      " ········\n"
     ]
    },
    {
     "name": "stdout",
     "output_type": "stream",
     "text": [
      "[{'url': 'https://www.weatherapi.com/', 'content': \"{'location': {'name': 'San Francisco', 'region': 'California', 'country': 'United States of America', 'lat': 37.775, 'lon': -122.4183, 'tz_id': 'America/Los_Angeles', 'localtime_epoch': 1730909496, 'localtime': '2024-11-06 08:11'}, 'current': {'last_updated_epoch': 1730908800, 'last_updated': '2024-11-06 08:00', 'temp_c': 13.9, 'temp_f': 57.0, 'is_day': 1, 'condition': {'text': 'Partly cloudy', 'icon': '//cdn.weatherapi.com/weather/64x64/day/116.png', 'code': 1003}, 'wind_mph': 14.1, 'wind_kph': 22.7, 'wind_degree': 22, 'wind_dir': 'NNE', 'pressure_mb': 1015.0, 'pressure_in': 29.98, 'precip_mm': 0.0, 'precip_in': 0.0, 'humidity': 30, 'cloud': 25, 'feelslike_c': 12.1, 'feelslike_f': 53.8, 'windchill_c': 11.5, 'windchill_f': 52.6, 'heatindex_c': 13.1, 'heatindex_f': 55.6, 'dewpoint_c': -0.3, 'dewpoint_f': 31.5, 'vis_km': 16.0, 'vis_miles': 9.0, 'uv': 0.3, 'gust_mph': 23.6, 'gust_kph': 37.9}}\"}, {'url': 'https://www.timeanddate.com/weather/@z-us-94134/ext', 'content': 'San Francisco 14 Day Extended Forecast. Time/General. Weather. Time Zone. DST Changes. Sun & Moon. Weather Today Weather Hourly 14 Day Forecast Yesterday/Past Weather Climate (Averages) Currently: 56 °F. Passing clouds.'}]\n"
     ]
    }
   ],
   "source": [
    "import getpass\n",
    "import os\n",
    "\n",
    "os.environ[\"TAVILY_API_KEY\"] = getpass.getpass()\n",
    "\n",
    "from langchain_community.tools.tavily_search import TavilySearchResults\n",
    "\n",
    "search = TavilySearchResults(max_results=2)\n",
    "search_results = search.invoke(\"what is the weather in SF\")\n",
    "print(search_results)\n",
    "\n",
    "tools = [search]"
   ]
  },
  {
   "cell_type": "code",
   "execution_count": 6,
   "id": "a3f6c8a2-e07b-477d-ad94-603c21c16a95",
   "metadata": {},
   "outputs": [],
   "source": [
    "model_with_tools = model.bind_tools(tools)"
   ]
  },
  {
   "cell_type": "code",
   "execution_count": 10,
   "id": "8071bd19-b1ea-492e-affc-7cfa5445527d",
   "metadata": {},
   "outputs": [
    {
     "name": "stdout",
     "output_type": "stream",
     "text": [
      "ContentString: \n",
      "ToolCalls: [{'name': 'tavily_search_results_json', 'args': {'query': 'weather in SF'}, 'id': '403693a0-9ec4-4f93-a462-456a7a37b690', 'type': 'tool_call'}]\n"
     ]
    }
   ],
   "source": [
    "from langchain_core.messages import HumanMessage\n",
    "\n",
    "response = model_with_tools.invoke([HumanMessage(content=\"What's the weather in SF?\")])\n",
    "\n",
    "print(f\"ContentString: {response.content}\")\n",
    "print(f\"ToolCalls: {response.tool_calls}\")"
   ]
  },
  {
   "cell_type": "code",
   "execution_count": 12,
   "id": "40f1153e-1f38-49a1-aa92-d18d0d372909",
   "metadata": {},
   "outputs": [
    {
     "name": "stdout",
     "output_type": "stream",
     "text": [
      "ContentString: content='' additional_kwargs={'function_call': {'name': 'tavily_search_results_json', 'arguments': '{\"query\": \"weather in SF\"}'}} response_metadata={'prompt_feedback': {'block_reason': 0, 'safety_ratings': []}, 'finish_reason': 'STOP', 'safety_ratings': [{'category': 'HARM_CATEGORY_SEXUALLY_EXPLICIT', 'probability': 'NEGLIGIBLE', 'blocked': False}, {'category': 'HARM_CATEGORY_DANGEROUS_CONTENT', 'probability': 'NEGLIGIBLE', 'blocked': False}, {'category': 'HARM_CATEGORY_HATE_SPEECH', 'probability': 'NEGLIGIBLE', 'blocked': False}, {'category': 'HARM_CATEGORY_HARASSMENT', 'probability': 'NEGLIGIBLE', 'blocked': False}]} id='run-2f67a981-4402-4246-ad3e-200291f4a8a4-0' tool_calls=[{'name': 'tavily_search_results_json', 'args': {'query': 'weather in SF'}, 'id': '403693a0-9ec4-4f93-a462-456a7a37b690', 'type': 'tool_call'}] usage_metadata={'input_tokens': 82, 'output_tokens': 22, 'total_tokens': 104, 'input_token_details': {'cache_read': 0}}\n"
     ]
    }
   ],
   "source": [
    "print(f\"ContentString: {response}\")"
   ]
  },
  {
   "cell_type": "markdown",
   "id": "5338b5b0-ee1d-48f6-9c5f-0f6f37676f5d",
   "metadata": {},
   "source": [
    "### Creating agent"
   ]
  },
  {
   "cell_type": "code",
   "execution_count": 5,
   "id": "3f302099-6f91-4d3f-a96c-57558e8b3134",
   "metadata": {},
   "outputs": [],
   "source": [
    "\n",
    "import langgraph\n",
    "from langgraph.prebuilt import create_react_agent\n",
    "\n",
    "agent_executor = create_react_agent(model, tools)"
   ]
  },
  {
   "cell_type": "code",
   "execution_count": 9,
   "id": "1fbc4587-7be2-4e5e-9b42-031160e1111a",
   "metadata": {},
   "outputs": [
    {
     "data": {
      "text/plain": [
       "[HumanMessage(content='hi!', additional_kwargs={}, response_metadata={}, id='c8a83af3-a005-455b-9d35-1100351b95c4'),\n",
       " AIMessage(content='Hello! 👋 How can I help you today? 😊 \\n', additional_kwargs={}, response_metadata={'prompt_feedback': {'block_reason': 0, 'safety_ratings': []}, 'finish_reason': 'STOP', 'safety_ratings': [{'category': 'HARM_CATEGORY_SEXUALLY_EXPLICIT', 'probability': 'NEGLIGIBLE', 'blocked': False}, {'category': 'HARM_CATEGORY_HATE_SPEECH', 'probability': 'NEGLIGIBLE', 'blocked': False}, {'category': 'HARM_CATEGORY_HARASSMENT', 'probability': 'NEGLIGIBLE', 'blocked': False}, {'category': 'HARM_CATEGORY_DANGEROUS_CONTENT', 'probability': 'NEGLIGIBLE', 'blocked': False}]}, id='run-4f3aa051-5e2d-4d0d-95d9-19c87d57b4e3-0', usage_metadata={'input_tokens': 76, 'output_tokens': 11, 'total_tokens': 87, 'input_token_details': {'cache_read': 0}})]"
      ]
     },
     "execution_count": 9,
     "metadata": {},
     "output_type": "execute_result"
    }
   ],
   "source": [
    "from langchain_core.messages import HumanMessage\n",
    "\n",
    "response = agent_executor.invoke({\"messages\": [HumanMessage(content=\"hi!\")]})\n",
    "\n",
    "response[\"messages\"]"
   ]
  },
  {
   "cell_type": "code",
   "execution_count": 11,
   "id": "c08148e4-c9bb-4af1-8e53-e79ce54d547c",
   "metadata": {},
   "outputs": [
    {
     "data": {
      "text/plain": [
       "[HumanMessage(content='whats the weather in sf?', additional_kwargs={}, response_metadata={}, id='d9dc8004-3b2e-4e51-ad27-9d5dc3a63f12'),\n",
       " AIMessage(content='', additional_kwargs={'function_call': {'name': 'tavily_search_results_json', 'arguments': '{\"query\": \"weather in sf\"}'}}, response_metadata={'prompt_feedback': {'block_reason': 0, 'safety_ratings': []}, 'finish_reason': 'STOP', 'safety_ratings': [{'category': 'HARM_CATEGORY_HATE_SPEECH', 'probability': 'NEGLIGIBLE', 'blocked': False}, {'category': 'HARM_CATEGORY_HARASSMENT', 'probability': 'NEGLIGIBLE', 'blocked': False}, {'category': 'HARM_CATEGORY_SEXUALLY_EXPLICIT', 'probability': 'NEGLIGIBLE', 'blocked': False}, {'category': 'HARM_CATEGORY_DANGEROUS_CONTENT', 'probability': 'NEGLIGIBLE', 'blocked': False}]}, id='run-a2860388-be57-4587-9f01-9d08c15d86e2-0', tool_calls=[{'name': 'tavily_search_results_json', 'args': {'query': 'weather in sf'}, 'id': 'c861a374-93d6-4b15-9d69-3eaa140b004b', 'type': 'tool_call'}], usage_metadata={'input_tokens': 80, 'output_tokens': 22, 'total_tokens': 102, 'input_token_details': {'cache_read': 0}}),\n",
       " ToolMessage(content='[{\"url\": \"https://www.weatherapi.com/\", \"content\": \"{\\'location\\': {\\'name\\': \\'San Francisco\\', \\'region\\': \\'California\\', \\'country\\': \\'United States of America\\', \\'lat\\': 37.775, \\'lon\\': -122.4183, \\'tz_id\\': \\'America/Los_Angeles\\', \\'localtime_epoch\\': 1730909496, \\'localtime\\': \\'2024-11-06 08:11\\'}, \\'current\\': {\\'last_updated_epoch\\': 1730908800, \\'last_updated\\': \\'2024-11-06 08:00\\', \\'temp_c\\': 13.9, \\'temp_f\\': 57.0, \\'is_day\\': 1, \\'condition\\': {\\'text\\': \\'Partly cloudy\\', \\'icon\\': \\'//cdn.weatherapi.com/weather/64x64/day/116.png\\', \\'code\\': 1003}, \\'wind_mph\\': 14.1, \\'wind_kph\\': 22.7, \\'wind_degree\\': 22, \\'wind_dir\\': \\'NNE\\', \\'pressure_mb\\': 1015.0, \\'pressure_in\\': 29.98, \\'precip_mm\\': 0.0, \\'precip_in\\': 0.0, \\'humidity\\': 30, \\'cloud\\': 25, \\'feelslike_c\\': 12.1, \\'feelslike_f\\': 53.8, \\'windchill_c\\': 11.5, \\'windchill_f\\': 52.6, \\'heatindex_c\\': 13.1, \\'heatindex_f\\': 55.6, \\'dewpoint_c\\': -0.3, \\'dewpoint_f\\': 31.5, \\'vis_km\\': 16.0, \\'vis_miles\\': 9.0, \\'uv\\': 0.3, \\'gust_mph\\': 23.6, \\'gust_kph\\': 37.9}}\"}, {\"url\": \"https://world-weather.info/forecast/usa/san_francisco/june-2024/\", \"content\": \"Detailed ⚡ San Francisco Weather Forecast for June 2024 - day/night 🌡️ temperatures, precipitations - World-Weather.info. Add the current city. Search. Weather; Archive; Widgets °F. World; United States; California; Weather in San Francisco; ... 11 +72° +52° 12 +66° +54° 13\"}]', name='tavily_search_results_json', id='b27f21b5-3b43-4345-9ba2-4a9397339f21', tool_call_id='c861a374-93d6-4b15-9d69-3eaa140b004b', artifact={'query': 'weather in sf', 'follow_up_questions': None, 'answer': None, 'images': [], 'results': [{'title': 'Weather in San Francisco', 'url': 'https://www.weatherapi.com/', 'content': \"{'location': {'name': 'San Francisco', 'region': 'California', 'country': 'United States of America', 'lat': 37.775, 'lon': -122.4183, 'tz_id': 'America/Los_Angeles', 'localtime_epoch': 1730909496, 'localtime': '2024-11-06 08:11'}, 'current': {'last_updated_epoch': 1730908800, 'last_updated': '2024-11-06 08:00', 'temp_c': 13.9, 'temp_f': 57.0, 'is_day': 1, 'condition': {'text': 'Partly cloudy', 'icon': '//cdn.weatherapi.com/weather/64x64/day/116.png', 'code': 1003}, 'wind_mph': 14.1, 'wind_kph': 22.7, 'wind_degree': 22, 'wind_dir': 'NNE', 'pressure_mb': 1015.0, 'pressure_in': 29.98, 'precip_mm': 0.0, 'precip_in': 0.0, 'humidity': 30, 'cloud': 25, 'feelslike_c': 12.1, 'feelslike_f': 53.8, 'windchill_c': 11.5, 'windchill_f': 52.6, 'heatindex_c': 13.1, 'heatindex_f': 55.6, 'dewpoint_c': -0.3, 'dewpoint_f': 31.5, 'vis_km': 16.0, 'vis_miles': 9.0, 'uv': 0.3, 'gust_mph': 23.6, 'gust_kph': 37.9}}\", 'score': 0.998909, 'raw_content': None}, {'title': 'Weather in San Francisco in June 2024', 'url': 'https://world-weather.info/forecast/usa/san_francisco/june-2024/', 'content': 'Detailed ⚡ San Francisco Weather Forecast for June 2024 - day/night 🌡️ temperatures, precipitations - World-Weather.info. Add the current city. Search. Weather; Archive; Widgets °F. World; United States; California; Weather in San Francisco; ... 11 +72° +52° 12 +66° +54° 13', 'score': 0.9961755, 'raw_content': None}], 'response_time': 3.51}),\n",
       " AIMessage(content='The weather in San Francisco is currently partly cloudy with a temperature of 57 degrees Fahrenheit. \\n', additional_kwargs={}, response_metadata={'prompt_feedback': {'block_reason': 0, 'safety_ratings': []}, 'finish_reason': 'STOP', 'safety_ratings': [{'category': 'HARM_CATEGORY_SEXUALLY_EXPLICIT', 'probability': 'NEGLIGIBLE', 'blocked': False}, {'category': 'HARM_CATEGORY_HATE_SPEECH', 'probability': 'NEGLIGIBLE', 'blocked': False}, {'category': 'HARM_CATEGORY_HARASSMENT', 'probability': 'NEGLIGIBLE', 'blocked': False}, {'category': 'HARM_CATEGORY_DANGEROUS_CONTENT', 'probability': 'NEGLIGIBLE', 'blocked': False}]}, id='run-ac3dc819-fd1e-4df5-a4f6-95b3b000154e-0', usage_metadata={'input_tokens': 785, 'output_tokens': 19, 'total_tokens': 804, 'input_token_details': {'cache_read': 0}})]"
      ]
     },
     "execution_count": 11,
     "metadata": {},
     "output_type": "execute_result"
    }
   ],
   "source": [
    "response = agent_executor.invoke(\n",
    "    {\"messages\": [HumanMessage(content=\"whats the weather in sf?\")]}\n",
    ")\n",
    "response[\"messages\"]"
   ]
  },
  {
   "cell_type": "markdown",
   "id": "7ea3feeb-cc3b-4296-adfc-fcefc6d27a13",
   "metadata": {},
   "source": [
    "### Adding in memory"
   ]
  },
  {
   "cell_type": "code",
   "execution_count": 14,
   "id": "433ba91f-44bd-4e0a-8980-ac1731767817",
   "metadata": {},
   "outputs": [],
   "source": [
    "from langgraph.checkpoint.memory import MemorySaver\n",
    "\n",
    "memory = MemorySaver()"
   ]
  },
  {
   "cell_type": "markdown",
   "id": "656c85ef-c6cd-432a-9015-531e5e3901cb",
   "metadata": {},
   "source": [
    "Config is an essential part of the model, helps track the conversation and provides state to the agent "
   ]
  },
  {
   "cell_type": "code",
   "execution_count": 16,
   "id": "d7684111-2da9-4fb7-a3db-b77ec2afc61b",
   "metadata": {},
   "outputs": [],
   "source": [
    "agent_executor = create_react_agent(model, tools, checkpointer=memory)\n",
    "\n",
    "config = {\"configurable\": {\"thread_id\": \"abc123\"}}"
   ]
  },
  {
   "cell_type": "code",
   "execution_count": 21,
   "id": "0e6bd953-70f4-4e66-ad22-7ad1bf6e399f",
   "metadata": {},
   "outputs": [
    {
     "name": "stdout",
     "output_type": "stream",
     "text": [
      "{'agent': {'messages': [AIMessage(content='Hello Bob! 👋  How can I help you today? 😊 \\n', additional_kwargs={}, response_metadata={'prompt_feedback': {'block_reason': 0, 'safety_ratings': []}, 'finish_reason': 'STOP', 'safety_ratings': [{'category': 'HARM_CATEGORY_SEXUALLY_EXPLICIT', 'probability': 'NEGLIGIBLE', 'blocked': False}, {'category': 'HARM_CATEGORY_HATE_SPEECH', 'probability': 'NEGLIGIBLE', 'blocked': False}, {'category': 'HARM_CATEGORY_HARASSMENT', 'probability': 'NEGLIGIBLE', 'blocked': False}, {'category': 'HARM_CATEGORY_DANGEROUS_CONTENT', 'probability': 'NEGLIGIBLE', 'blocked': False}]}, id='run-8b400cc0-fc7f-454a-b8fc-21fc54022287-0', usage_metadata={'input_tokens': 78, 'output_tokens': 13, 'total_tokens': 91, 'input_token_details': {'cache_read': 0}})]}}\n",
      "----\n"
     ]
    }
   ],
   "source": [
    "for chunk in agent_executor.stream(\n",
    "    {\"messages\": [HumanMessage(content=\"hi im bob!\")]}, config\n",
    "):\n",
    "    print(chunk)\n",
    "    print(\"----\")"
   ]
  },
  {
   "cell_type": "code",
   "execution_count": 23,
   "id": "1902a827-5bd3-493c-a0e9-39e3e62b44c5",
   "metadata": {},
   "outputs": [
    {
     "name": "stdout",
     "output_type": "stream",
     "text": [
      "{'agent': {'messages': [AIMessage(content='You said your name is Bob! 😊 \\n', additional_kwargs={}, response_metadata={'prompt_feedback': {'block_reason': 0, 'safety_ratings': []}, 'finish_reason': 'STOP', 'safety_ratings': [{'category': 'HARM_CATEGORY_SEXUALLY_EXPLICIT', 'probability': 'NEGLIGIBLE', 'blocked': False}, {'category': 'HARM_CATEGORY_HATE_SPEECH', 'probability': 'NEGLIGIBLE', 'blocked': False}, {'category': 'HARM_CATEGORY_HARASSMENT', 'probability': 'NEGLIGIBLE', 'blocked': False}, {'category': 'HARM_CATEGORY_DANGEROUS_CONTENT', 'probability': 'NEGLIGIBLE', 'blocked': False}]}, id='run-782adcb3-2c6f-4a42-b1e4-d16d4d997d59-0', usage_metadata={'input_tokens': 99, 'output_tokens': 8, 'total_tokens': 107, 'input_token_details': {'cache_read': 0}})]}}\n",
      "----\n"
     ]
    }
   ],
   "source": [
    "for chunk in agent_executor.stream(\n",
    "    {\"messages\": [HumanMessage(content=\"whats my name?\")]}, config\n",
    "):\n",
    "    print(chunk)\n",
    "    print(\"----\")"
   ]
  },
  {
   "cell_type": "markdown",
   "id": "fd63f999-db78-4cc8-825b-68b35047c883",
   "metadata": {},
   "source": [
    "#### Memory access"
   ]
  },
  {
   "cell_type": "code",
   "execution_count": 37,
   "id": "db9728ff-8a61-4fef-94de-c8f733a486ab",
   "metadata": {},
   "outputs": [
    {
     "data": {
      "text/plain": [
       "{'v': 1,\n",
       " 'ts': '2024-11-06T16:26:42.817145+00:00',\n",
       " 'id': '1ef9c5be-87bf-6cc3-8004-6f3ed9763edc',\n",
       " 'channel_values': {'messages': [HumanMessage(content='hi im bob!', additional_kwargs={}, response_metadata={}, id='5d0d0828-b3b9-491c-80ee-c60182f75163'),\n",
       "   AIMessage(content='Hello Bob! 👋  How can I help you today? 😊 \\n', additional_kwargs={}, response_metadata={'prompt_feedback': {'block_reason': 0, 'safety_ratings': []}, 'finish_reason': 'STOP', 'safety_ratings': [{'category': 'HARM_CATEGORY_SEXUALLY_EXPLICIT', 'probability': 'NEGLIGIBLE', 'blocked': False}, {'category': 'HARM_CATEGORY_HATE_SPEECH', 'probability': 'NEGLIGIBLE', 'blocked': False}, {'category': 'HARM_CATEGORY_HARASSMENT', 'probability': 'NEGLIGIBLE', 'blocked': False}, {'category': 'HARM_CATEGORY_DANGEROUS_CONTENT', 'probability': 'NEGLIGIBLE', 'blocked': False}]}, id='run-8b400cc0-fc7f-454a-b8fc-21fc54022287-0', usage_metadata={'input_tokens': 78, 'output_tokens': 13, 'total_tokens': 91, 'input_token_details': {'cache_read': 0}}),\n",
       "   HumanMessage(content='whats my name?', additional_kwargs={}, response_metadata={}, id='8641974e-fa49-484a-adfc-9e56e5f8ebc4'),\n",
       "   AIMessage(content='You said your name is Bob! 😊 \\n', additional_kwargs={}, response_metadata={'prompt_feedback': {'block_reason': 0, 'safety_ratings': []}, 'finish_reason': 'STOP', 'safety_ratings': [{'category': 'HARM_CATEGORY_SEXUALLY_EXPLICIT', 'probability': 'NEGLIGIBLE', 'blocked': False}, {'category': 'HARM_CATEGORY_HATE_SPEECH', 'probability': 'NEGLIGIBLE', 'blocked': False}, {'category': 'HARM_CATEGORY_HARASSMENT', 'probability': 'NEGLIGIBLE', 'blocked': False}, {'category': 'HARM_CATEGORY_DANGEROUS_CONTENT', 'probability': 'NEGLIGIBLE', 'blocked': False}]}, id='run-782adcb3-2c6f-4a42-b1e4-d16d4d997d59-0', usage_metadata={'input_tokens': 99, 'output_tokens': 8, 'total_tokens': 107, 'input_token_details': {'cache_read': 0}})],\n",
       "  'agent': 'agent'},\n",
       " 'channel_versions': {'__start__': '00000000000000000000000000000005.0.41893764841926295',\n",
       "  'messages': '00000000000000000000000000000006.0.4477274934214551',\n",
       "  'start:agent': '00000000000000000000000000000006.0.7566796862005271',\n",
       "  'agent': '00000000000000000000000000000006.0.17878037532954216'},\n",
       " 'versions_seen': {'__input__': {},\n",
       "  '__start__': {'__start__': '00000000000000000000000000000004.0.31591535278003013'},\n",
       "  'agent': {'start:agent': '00000000000000000000000000000005.0.06633656031134061'}},\n",
       " 'pending_sends': []}"
      ]
     },
     "execution_count": 37,
     "metadata": {},
     "output_type": "execute_result"
    }
   ],
   "source": [
    "memory.get(config=config)"
   ]
  },
  {
   "cell_type": "code",
   "execution_count": null,
   "id": "3d19bccb-9c8e-44eb-bbd1-feefe9a114d6",
   "metadata": {},
   "outputs": [],
   "source": []
  }
 ],
 "metadata": {
  "kernelspec": {
   "display_name": "Python 3 (ipykernel)",
   "language": "python",
   "name": "python3"
  },
  "language_info": {
   "codemirror_mode": {
    "name": "ipython",
    "version": 3
   },
   "file_extension": ".py",
   "mimetype": "text/x-python",
   "name": "python",
   "nbconvert_exporter": "python",
   "pygments_lexer": "ipython3",
   "version": "3.12.7"
  }
 },
 "nbformat": 4,
 "nbformat_minor": 5
}
